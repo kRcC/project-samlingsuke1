{
 "cells": [
  {
   "cell_type": "markdown",
   "id": "84ebc66e",
   "metadata": {},
   "source": [
    "# Oppgave - Matplotlib\n",
    "\n",
    "1. Funksjonen: ```def show_images(amount)``` viser et valgfritt antall bilder ved å kalle den med ulike argumenter (**amount** er et argument til funksjonen).\n",
    "   - Kopier funksjonen inn i denne filen\n",
    "   - Last inn bildene som ligger i `foreground_segmentation_images` og `foreground_segmentation_labels` til nye variabler ```images``` og ```labels``` i denne filen\n",
    "   - Test funksjonen ved å kalle den med ulike tall fra 1–9\n",
    "\n",
    "2. Endre funksjonen slik at den alltid viser 2 bilder mer enn **amount**\n",
    "   - Hva kan gå galt, og hvordan kan vi løse det?\n",
    "\n",
    "3. Lag en mappe i `data`: `data/my_images`\n",
    "   - Legg til noen valgfrie bilder\n",
    "   - Last inn bildene til en variabel ```my_images```\n",
    "\n",
    "4. Lag din egen versjon av funksjonen\n",
    "   - Vis ulike størrelser; endre f.eks.: ```plt.figure(figsize=(16, 4), dpi=300)```\n",
    "   - Endre tittel/tekst, skriftfarge og størrelse på bildetekstene\n",
    "   - (Valgfritt) Legg til flere forbedringer (f.eks. tilfeldig utvalg av bilder, sortering, lagre figur til fil)\n"
   ]
  },
  {
   "cell_type": "code",
   "execution_count": 1,
   "id": "6969181a",
   "metadata": {},
   "outputs": [
    {
     "ename": "NameError",
     "evalue": "name 'Image' is not defined",
     "output_type": "error",
     "traceback": [
      "\u001b[31m---------------------------------------------------------------------------\u001b[39m",
      "\u001b[31mNameError\u001b[39m                                 Traceback (most recent call last)",
      "\u001b[36mCell\u001b[39m\u001b[36m \u001b[39m\u001b[32mIn[1]\u001b[39m\u001b[32m, line 5\u001b[39m\n\u001b[32m      2\u001b[39m image_folder = \u001b[33m\"\u001b[39m\u001b[33m./data/foreground_segmentation_images\u001b[39m\u001b[33m\"\u001b[39m\n\u001b[32m      3\u001b[39m label_folder = \u001b[33m\"\u001b[39m\u001b[33m./data/foreground_segmentation_labels\u001b[39m\u001b[33m\"\u001b[39m\n\u001b[32m----> \u001b[39m\u001b[32m5\u001b[39m \u001b[38;5;28;01mdef\u001b[39;00m\u001b[38;5;250m \u001b[39m\u001b[34mload_images_from_folder\u001b[39m(folder: \u001b[38;5;28mstr\u001b[39m) -> \u001b[38;5;28mlist\u001b[39m[\u001b[43mImage\u001b[49m.Image]:\n\u001b[32m      6\u001b[39m     images = []\n\u001b[32m      7\u001b[39m     \u001b[38;5;28;01mfor\u001b[39;00m filename \u001b[38;5;129;01min\u001b[39;00m \u001b[38;5;28msorted\u001b[39m(os.listdir(folder)):\n",
      "\u001b[31mNameError\u001b[39m: name 'Image' is not defined"
     ]
    }
   ],
   "source": [
    "# Bruke bilder som er lagret lokalt på på \"data\" mappen\n",
    "image_folder = \"./data/foreground_segmentation_images\"\n",
    "label_folder = \"./data/foreground_segmentation_labels\"\n",
    "\n",
    "def load_images_from_folder(folder: str) -> list[Image.Image]:\n",
    "    images = []\n",
    "    for filename in sorted(os.listdir(folder)):\n",
    "        if filename.endswith(('.png', '.jpg', '.jpeg')):\n",
    "            \n",
    "            img = Image.open(os.path.join(folder, filename))\n",
    "            images.append(img)\n",
    "            print(f\"Loaded {filename} from {folder}\")\n",
    "\n",
    "    print(f\"Total images loaded from {folder}: {len(images)}\\n\")\n",
    "    return images\n",
    "\n",
    "images = load_images_from_folder(image_folder)\n",
    "labels = load_images_from_folder(label_folder)\n",
    "n_images = len(images)\n",
    "\n",
    "assert n_images == len(labels), f\"{len(images)=}, {len(labels)=}\" # Sjekke at vi har like mange bilder og labels\n",
    "\n",
    "print(f\"Loaded {n_images} images and labels from local folders\")\n",
    "\n",
    "\n",
    "# Bruke bilder som er lagret lokalt på på \"data\" mappen\n",
    "image_folder = \"./data/foreground_segmentation_images\"\n",
    "label_folder = \"./data/foreground_segmentation_labels\"\n",
    "\n",
    "def show_images(amount, images, labels):\n",
    "    amount = max(0, min(amount, len(images)))\n",
    "    for image, mask in zip(images[:amount], labels[:amount]):\n",
    "        img_rgba = image.convert(\"RGBA\")   # sikre RGBA\n",
    "        m = mask.convert(\"L\")              # sikre gråskala 0–255\n",
    "\n",
    "        # Foreground = bare verktøy\n",
    "        fg = Image.new(\"RGBA\", img_rgba.size, (0, 0, 0, 0))\n",
    "        fg.paste(img_rgba, (0, 0), m)\n",
    "\n",
    "        # Background = bare bakgrunn (inverter masken)\n",
    "        m_inv = ImageChops.invert(m)\n",
    "        bg = Image.new(\"RGBA\", img_rgba.size, (0, 0, 0, 0))\n",
    "        bg.paste(img_rgba, (0, 0), m_inv)\n",
    "\n",
    "        data_to_show = [image, m, fg, bg]\n",
    "        data_labels = [\"Image\", \"Mask\", \"Foreground\", \"Background\"]\n",
    "\n",
    "        plt.figure(figsize=(16, 4), dpi=300)\n",
    "        for i, (d, t) in enumerate(zip(data_to_show, data_labels), 1):\n",
    "            plt.subplot(1, len(data_to_show), i)\n",
    "            if t == \"Mask\":\n",
    "                plt.imshow(np.array(d), cmap=\"gray\", vmin=0, vmax=255)\n",
    "            else:\n",
    "                plt.imshow(d)\n",
    "            plt.axis(\"off\")\n",
    "            plt.title(t, fontsize=12)\n",
    "        plt.show()\n",
    "\n",
    "# --- Bruk ---\n",
    "\n",
    "vise_antall_bilder = 1\n",
    "show_images(vise_antall_bilder, images, labels)\n",
    "\n",
    "# Print første bilde som numpy-array (RGBA)\n",
    "print(np.array(images[0].convert(\"RGBA\")))\n"
   ]
  }
 ],
 "metadata": {
  "kernelspec": {
   "display_name": ".venv (3.13.7)",
   "language": "python",
   "name": "python3"
  },
  "language_info": {
   "codemirror_mode": {
    "name": "ipython",
    "version": 3
   },
   "file_extension": ".py",
   "mimetype": "text/x-python",
   "name": "python",
   "nbconvert_exporter": "python",
   "pygments_lexer": "ipython3",
   "version": "3.13.7"
  }
 },
 "nbformat": 4,
 "nbformat_minor": 5
}
